{
 "cells": [
  {
   "cell_type": "code",
   "execution_count": 2,
   "metadata": {},
   "outputs": [
    {
     "name": "stdout",
     "output_type": "stream",
     "text": [
      "Defaulting to user installation because normal site-packages is not writeable\n",
      "Collecting elasticsearch\n",
      "  Downloading elasticsearch-8.15.1-py3-none-any.whl.metadata (8.7 kB)\n",
      "Collecting elastic-transport<9,>=8.13 (from elasticsearch)\n",
      "  Downloading elastic_transport-8.15.0-py3-none-any.whl.metadata (3.6 kB)\n",
      "Collecting urllib3<3,>=1.26.2 (from elastic-transport<9,>=8.13->elasticsearch)\n",
      "  Downloading urllib3-2.2.3-py3-none-any.whl.metadata (6.5 kB)\n",
      "Collecting certifi (from elastic-transport<9,>=8.13->elasticsearch)\n",
      "  Downloading certifi-2024.8.30-py3-none-any.whl.metadata (2.2 kB)\n",
      "Downloading elasticsearch-8.15.1-py3-none-any.whl (524 kB)\n",
      "   ---------------------------------------- 0.0/524.6 kB ? eta -:--:--\n",
      "   ---------------------------------------- 0.0/524.6 kB ? eta -:--:--\n",
      "   ---------------------------------------- 524.6/524.6 kB 2.8 MB/s eta 0:00:00\n",
      "Downloading elastic_transport-8.15.0-py3-none-any.whl (64 kB)\n",
      "Downloading urllib3-2.2.3-py3-none-any.whl (126 kB)\n",
      "Downloading certifi-2024.8.30-py3-none-any.whl (167 kB)\n",
      "Installing collected packages: urllib3, certifi, elastic-transport, elasticsearch\n",
      "Successfully installed certifi-2024.8.30 elastic-transport-8.15.0 elasticsearch-8.15.1 urllib3-2.2.3\n",
      "Note: you may need to restart the kernel to use updated packages.\n"
     ]
    }
   ],
   "source": [
    "\n",
    "pip install elasticsearch\n"
   ]
  },
  {
   "cell_type": "code",
   "execution_count": null,
   "metadata": {},
   "outputs": [],
   "source": [
    "pip install elasticsearch\n"
   ]
  },
  {
   "cell_type": "code",
   "execution_count": null,
   "metadata": {},
   "outputs": [],
   "source": [
    "docker run -d --name elasticsearch -p 9200:9200 -e \"discovery.type=single-node\" elasticsearch:7.10.0\n"
   ]
  },
  {
   "cell_type": "code",
   "execution_count": null,
   "metadata": {},
   "outputs": [],
   "source": [
    "from elasticsearch import Elasticsearch\n",
    "\n",
    "es = Elasticsearch()\n",
    "\n",
    "# Create index\n",
    "es.indices.create(index='employees', ignore=400)\n"
   ]
  },
  {
   "cell_type": "code",
   "execution_count": null,
   "metadata": {},
   "outputs": [],
   "source": [
    "import pandas as pd\n",
    "\n",
    "# Load data\n",
    "df = pd.read_csv('D:\\Employee Sample Data 1.csv')"
   ]
  },
  {
   "cell_type": "code",
   "execution_count": null,
   "metadata": {},
   "outputs": [],
   "source": [
    "\n",
    "\n",
    "# Index data\n",
    "for index, document in df.iterrows():\n",
    "    es.index(index='employees', id=index, document=document.to_dict())\n"
   ]
  },
  {
   "cell_type": "code",
   "execution_count": null,
   "metadata": {},
   "outputs": [],
   "source": [
    "from flask import Flask, request, render_template\n",
    "from elasticsearch import Elasticsearch\n",
    "\n",
    "app = Flask(__name__)\n",
    "es = Elasticsearch()\n",
    "\n",
    "@app.route('/')\n",
    "def index():\n",
    "    return render_template('index.html')\n",
    "\n",
    "@app.route('/search', methods=['POST'])\n",
    "def search():\n",
    "    name = request.form['name']\n",
    "    results = es.search(index='employees', query={'match': {'name': name}})\n",
    "    return render_template('results.html', results=results['hits']['hits'])\n",
    "\n",
    "if __name__ == '__main__':\n",
    "    app.run(debug=True)\n"
   ]
  },
  {
   "cell_type": "code",
   "execution_count": 10,
   "metadata": {},
   "outputs": [],
   "source": [
    "def createCollection(p_collection_name):\n",
    "    es.indices.create(index=p_collection_name, ignore=400)\n"
   ]
  },
  {
   "cell_type": "code",
   "execution_count": 11,
   "metadata": {},
   "outputs": [],
   "source": [
    "def indexData(p_collection_name, p_exclude_column):\n",
    "    # Load employee data\n",
    "    df = pd.read_csv('employee_data.csv')\n",
    "    \n",
    "    # Exclude specified column\n",
    "    df = df.drop(columns=[p_exclude_column])\n",
    "    \n",
    "    # Index data\n",
    "    for index, row in df.iterrows():\n",
    "        es.index(index=p_collection_name, id=index, document=row.to_dict())\n"
   ]
  },
  {
   "cell_type": "code",
   "execution_count": 12,
   "metadata": {},
   "outputs": [],
   "source": [
    "def searchByColumn(p_collection_name, p_column_name, p_column_value):\n",
    "    search_query = {\"match\": {p_column_name: p_column_value}}\n",
    "    results = es.search(index=p_collection_name, query=search_query)\n",
    "    return results['hits']['hits']\n"
   ]
  },
  {
   "cell_type": "code",
   "execution_count": 13,
   "metadata": {},
   "outputs": [],
   "source": [
    "def delEmpById(p_collection_name, p_employee_id):\n",
    "    es.delete(index=p_collection_name, id=p_employee_id)\n"
   ]
  },
  {
   "cell_type": "code",
   "execution_count": 14,
   "metadata": {},
   "outputs": [],
   "source": [
    "def getDepFacet(p_collection_name):\n",
    "    aggs_query = {\n",
    "        \"aggs\": {\n",
    "            \"departments\": {\n",
    "                \"terms\": {\"field\": \"Department.keyword\"}\n",
    "            }\n",
    "        }\n",
    "    }\n",
    "    results = es.search(index=p_collection_name, body=aggs_query)\n",
    "    return results['aggregations']['departments']['buckets']\n"
   ]
  },
  {
   "cell_type": "code",
   "execution_count": null,
   "metadata": {},
   "outputs": [],
   "source": [
    "v_nameCollection = 'Hash_YourName'\n",
    "v_phoneCollection = 'Hash_LastFourDigits'\n",
    "\n",
    "# Create collections\n",
    "createCollection(v_nameCollection)\n",
    "createCollection(v_phoneCollection)\n",
    "\n",
    "# Get employee count\n",
    "print(getEmpCount(v_nameCollection))\n",
    "\n",
    "# Index data\n",
    "indexData(v_nameCollection, 'Department')\n",
    "indexData(v_phoneCollection, 'Gender')\n",
    "\n",
    "# Delete employee by ID\n",
    "delEmpById(v_nameCollection, 'E02003')\n",
    "\n",
    "# Get employee count again\n",
    "print(getEmpCount(v_nameCollection))\n",
    "\n",
    "# Search by column\n",
    "print(searchByColumn(v_nameCollection, 'Department', 'IT'))\n",
    "print(searchByColumn(v_nameCollection, 'Gender', 'Male'))\n",
    "print(searchByColumn(v_phoneCollection, 'Department', 'IT'))\n",
    "\n",
    "# Get department facet\n",
    "print(getDepFacet(v_nameCollection))\n",
    "print(getDepFacet(v_phoneCollection))\n"
   ]
  }
 ],
 "metadata": {
  "kernelspec": {
   "display_name": "Python 3",
   "language": "python",
   "name": "python3"
  },
  "language_info": {
   "codemirror_mode": {
    "name": "ipython",
    "version": 3
   },
   "file_extension": ".py",
   "mimetype": "text/x-python",
   "name": "python",
   "nbconvert_exporter": "python",
   "pygments_lexer": "ipython3",
   "version": "3.12.6"
  }
 },
 "nbformat": 4,
 "nbformat_minor": 2
}
